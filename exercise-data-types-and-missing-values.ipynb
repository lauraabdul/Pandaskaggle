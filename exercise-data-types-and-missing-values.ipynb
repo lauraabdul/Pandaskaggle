{
 "cells": [
  {
   "cell_type": "markdown",
   "id": "62e48c23",
   "metadata": {
    "papermill": {
     "duration": 0.00568,
     "end_time": "2022-06-28T19:27:37.866710",
     "exception": false,
     "start_time": "2022-06-28T19:27:37.861030",
     "status": "completed"
    },
    "tags": []
   },
   "source": [
    "**This notebook is an exercise in the [Pandas](https://www.kaggle.com/learn/pandas) course.  You can reference the tutorial at [this link](https://www.kaggle.com/residentmario/data-types-and-missing-values).**\n",
    "\n",
    "---\n"
   ]
  },
  {
   "cell_type": "markdown",
   "id": "51c4458e",
   "metadata": {
    "papermill": {
     "duration": 0.004645,
     "end_time": "2022-06-28T19:27:37.876211",
     "exception": false,
     "start_time": "2022-06-28T19:27:37.871566",
     "status": "completed"
    },
    "tags": []
   },
   "source": [
    "# Introduction\n",
    "\n",
    "Run the following cell to load your data and some utility functions."
   ]
  },
  {
   "cell_type": "code",
   "execution_count": 1,
   "id": "c2a25f0f",
   "metadata": {
    "execution": {
     "iopub.execute_input": "2022-06-28T19:27:37.889817Z",
     "iopub.status.busy": "2022-06-28T19:27:37.888521Z",
     "iopub.status.idle": "2022-06-28T19:27:40.848379Z",
     "shell.execute_reply": "2022-06-28T19:27:40.845224Z"
    },
    "papermill": {
     "duration": 2.970679,
     "end_time": "2022-06-28T19:27:40.851998",
     "exception": false,
     "start_time": "2022-06-28T19:27:37.881319",
     "status": "completed"
    },
    "tags": []
   },
   "outputs": [
    {
     "name": "stdout",
     "output_type": "stream",
     "text": [
      "Setup complete.\n"
     ]
    }
   ],
   "source": [
    "import pandas as pd\n",
    "\n",
    "reviews = pd.read_csv(\"../input/wine-reviews/winemag-data-130k-v2.csv\", index_col=0)\n",
    "\n",
    "from learntools.core import binder; binder.bind(globals())\n",
    "from learntools.pandas.data_types_and_missing_data import *\n",
    "print(\"Setup complete.\")"
   ]
  },
  {
   "cell_type": "markdown",
   "id": "b70c1d19",
   "metadata": {
    "papermill": {
     "duration": 0.004595,
     "end_time": "2022-06-28T19:27:40.861836",
     "exception": false,
     "start_time": "2022-06-28T19:27:40.857241",
     "status": "completed"
    },
    "tags": []
   },
   "source": [
    "# Exercises"
   ]
  },
  {
   "cell_type": "markdown",
   "id": "a5069d9b",
   "metadata": {
    "papermill": {
     "duration": 0.004526,
     "end_time": "2022-06-28T19:27:40.871136",
     "exception": false,
     "start_time": "2022-06-28T19:27:40.866610",
     "status": "completed"
    },
    "tags": []
   },
   "source": [
    "## 1. \n",
    "What is the data type of the `points` column in the dataset?"
   ]
  },
  {
   "cell_type": "code",
   "execution_count": 2,
   "id": "17bdb9c6",
   "metadata": {
    "execution": {
     "iopub.execute_input": "2022-06-28T19:27:40.882412Z",
     "iopub.status.busy": "2022-06-28T19:27:40.882014Z",
     "iopub.status.idle": "2022-06-28T19:27:40.898214Z",
     "shell.execute_reply": "2022-06-28T19:27:40.896844Z"
    },
    "papermill": {
     "duration": 0.024893,
     "end_time": "2022-06-28T19:27:40.900718",
     "exception": false,
     "start_time": "2022-06-28T19:27:40.875825",
     "status": "completed"
    },
    "tags": []
   },
   "outputs": [
    {
     "data": {
      "application/javascript": [
       "parent.postMessage({\"jupyterEvent\": \"custom.exercise_interaction\", \"data\": {\"outcomeType\": 1, \"valueTowardsCompletion\": 0.25, \"interactionType\": 1, \"questionType\": 1, \"questionId\": \"1_PointsDtype\", \"learnToolsVersion\": \"0.3.4\", \"failureMessage\": \"\", \"exceptionClass\": \"\", \"trace\": \"\"}}, \"*\")"
      ],
      "text/plain": [
       "<IPython.core.display.Javascript object>"
      ]
     },
     "metadata": {},
     "output_type": "display_data"
    },
    {
     "data": {
      "text/markdown": [
       "<span style=\"color:#33cc33\">Correct</span>"
      ],
      "text/plain": [
       "Correct"
      ]
     },
     "metadata": {},
     "output_type": "display_data"
    },
    {
     "data": {
      "text/plain": [
       "dtype('int64')"
      ]
     },
     "execution_count": 2,
     "metadata": {},
     "output_type": "execute_result"
    }
   ],
   "source": [
    "# Your code here\n",
    "dtype = reviews.points.dtype\n",
    "\n",
    "# Check your answer\n",
    "q1.check()\n",
    "dtype "
   ]
  },
  {
   "cell_type": "code",
   "execution_count": 3,
   "id": "1b0a2ec9",
   "metadata": {
    "execution": {
     "iopub.execute_input": "2022-06-28T19:27:40.912896Z",
     "iopub.status.busy": "2022-06-28T19:27:40.912536Z",
     "iopub.status.idle": "2022-06-28T19:27:40.917206Z",
     "shell.execute_reply": "2022-06-28T19:27:40.915788Z"
    },
    "papermill": {
     "duration": 0.014201,
     "end_time": "2022-06-28T19:27:40.920130",
     "exception": false,
     "start_time": "2022-06-28T19:27:40.905929",
     "status": "completed"
    },
    "tags": []
   },
   "outputs": [],
   "source": [
    "#q1.hint()\n",
    "#q1.solution()"
   ]
  },
  {
   "cell_type": "markdown",
   "id": "eb079b71",
   "metadata": {
    "papermill": {
     "duration": 0.004862,
     "end_time": "2022-06-28T19:27:40.930476",
     "exception": false,
     "start_time": "2022-06-28T19:27:40.925614",
     "status": "completed"
    },
    "tags": []
   },
   "source": [
    "## 2. \n",
    "Create a Series from entries in the `points` column, but convert the entries to strings. Hint: strings are `str` in native Python."
   ]
  },
  {
   "cell_type": "code",
   "execution_count": 4,
   "id": "be9f6818",
   "metadata": {
    "execution": {
     "iopub.execute_input": "2022-06-28T19:27:40.942721Z",
     "iopub.status.busy": "2022-06-28T19:27:40.942365Z",
     "iopub.status.idle": "2022-06-28T19:27:41.082289Z",
     "shell.execute_reply": "2022-06-28T19:27:41.081037Z"
    },
    "papermill": {
     "duration": 0.149246,
     "end_time": "2022-06-28T19:27:41.084911",
     "exception": false,
     "start_time": "2022-06-28T19:27:40.935665",
     "status": "completed"
    },
    "tags": []
   },
   "outputs": [
    {
     "data": {
      "application/javascript": [
       "parent.postMessage({\"jupyterEvent\": \"custom.exercise_interaction\", \"data\": {\"outcomeType\": 1, \"valueTowardsCompletion\": 0.25, \"interactionType\": 1, \"questionType\": 1, \"questionId\": \"2_StrPoints\", \"learnToolsVersion\": \"0.3.4\", \"failureMessage\": \"\", \"exceptionClass\": \"\", \"trace\": \"\"}}, \"*\")"
      ],
      "text/plain": [
       "<IPython.core.display.Javascript object>"
      ]
     },
     "metadata": {},
     "output_type": "display_data"
    },
    {
     "data": {
      "text/markdown": [
       "<span style=\"color:#33cc33\">Correct</span>"
      ],
      "text/plain": [
       "Correct"
      ]
     },
     "metadata": {},
     "output_type": "display_data"
    }
   ],
   "source": [
    "point_strings = reviews.points.astype('str')\n",
    "\n",
    "# Check your answer\n",
    "q2.check()\n"
   ]
  },
  {
   "cell_type": "code",
   "execution_count": 5,
   "id": "9456ceb4",
   "metadata": {
    "execution": {
     "iopub.execute_input": "2022-06-28T19:27:41.097975Z",
     "iopub.status.busy": "2022-06-28T19:27:41.097609Z",
     "iopub.status.idle": "2022-06-28T19:27:41.104436Z",
     "shell.execute_reply": "2022-06-28T19:27:41.103171Z"
    },
    "papermill": {
     "duration": 0.016911,
     "end_time": "2022-06-28T19:27:41.107328",
     "exception": false,
     "start_time": "2022-06-28T19:27:41.090417",
     "status": "completed"
    },
    "tags": []
   },
   "outputs": [],
   "source": [
    "#q2.hint()\n",
    "#q2.solution()"
   ]
  },
  {
   "cell_type": "markdown",
   "id": "1d078134",
   "metadata": {
    "papermill": {
     "duration": 0.005468,
     "end_time": "2022-06-28T19:27:41.119497",
     "exception": false,
     "start_time": "2022-06-28T19:27:41.114029",
     "status": "completed"
    },
    "tags": []
   },
   "source": [
    "## 3.\n",
    "Sometimes the price column is null. How many reviews in the dataset are missing a price?"
   ]
  },
  {
   "cell_type": "code",
   "execution_count": 6,
   "id": "d1ba869e",
   "metadata": {
    "execution": {
     "iopub.execute_input": "2022-06-28T19:27:41.133037Z",
     "iopub.status.busy": "2022-06-28T19:27:41.132333Z",
     "iopub.status.idle": "2022-06-28T19:27:41.142776Z",
     "shell.execute_reply": "2022-06-28T19:27:41.141988Z"
    },
    "papermill": {
     "duration": 0.019577,
     "end_time": "2022-06-28T19:27:41.144798",
     "exception": false,
     "start_time": "2022-06-28T19:27:41.125221",
     "status": "completed"
    },
    "tags": []
   },
   "outputs": [
    {
     "data": {
      "application/javascript": [
       "parent.postMessage({\"jupyterEvent\": \"custom.exercise_interaction\", \"data\": {\"outcomeType\": 1, \"valueTowardsCompletion\": 0.25, \"interactionType\": 1, \"questionType\": 1, \"questionId\": \"3_CountMissingPrices\", \"learnToolsVersion\": \"0.3.4\", \"failureMessage\": \"\", \"exceptionClass\": \"\", \"trace\": \"\"}}, \"*\")"
      ],
      "text/plain": [
       "<IPython.core.display.Javascript object>"
      ]
     },
     "metadata": {},
     "output_type": "display_data"
    },
    {
     "data": {
      "text/markdown": [
       "<span style=\"color:#33cc33\">Correct</span>"
      ],
      "text/plain": [
       "Correct"
      ]
     },
     "metadata": {},
     "output_type": "display_data"
    },
    {
     "data": {
      "text/plain": [
       "8996"
      ]
     },
     "execution_count": 6,
     "metadata": {},
     "output_type": "execute_result"
    }
   ],
   "source": [
    "n_missing_prices = reviews.price.isnull().sum()\n",
    "\n",
    "# Check your answer\n",
    "q3.check()\n",
    "n_missing_prices"
   ]
  },
  {
   "cell_type": "code",
   "execution_count": 7,
   "id": "0a37946c",
   "metadata": {
    "execution": {
     "iopub.execute_input": "2022-06-28T19:27:41.158771Z",
     "iopub.status.busy": "2022-06-28T19:27:41.158383Z",
     "iopub.status.idle": "2022-06-28T19:27:41.162650Z",
     "shell.execute_reply": "2022-06-28T19:27:41.161854Z"
    },
    "papermill": {
     "duration": 0.013993,
     "end_time": "2022-06-28T19:27:41.164909",
     "exception": false,
     "start_time": "2022-06-28T19:27:41.150916",
     "status": "completed"
    },
    "tags": []
   },
   "outputs": [],
   "source": [
    "#q3.hint()\n",
    "#q3.solution()"
   ]
  },
  {
   "cell_type": "markdown",
   "id": "e200bc89",
   "metadata": {
    "papermill": {
     "duration": 0.005955,
     "end_time": "2022-06-28T19:27:41.177177",
     "exception": false,
     "start_time": "2022-06-28T19:27:41.171222",
     "status": "completed"
    },
    "tags": []
   },
   "source": [
    "## 4.\n",
    "What are the most common wine-producing regions? Create a Series counting the number of times each value occurs in the `region_1` field. This field is often missing data, so replace missing values with `Unknown`. Sort in descending order.  Your output should look something like this:\n",
    "\n",
    "```\n",
    "Unknown                    21247\n",
    "Napa Valley                 4480\n",
    "                           ...  \n",
    "Bardolino Superiore            1\n",
    "Primitivo del Tarantino        1\n",
    "Name: region_1, Length: 1230, dtype: int64\n",
    "```"
   ]
  },
  {
   "cell_type": "code",
   "execution_count": 8,
   "id": "c642c306",
   "metadata": {
    "execution": {
     "iopub.execute_input": "2022-06-28T19:27:41.191723Z",
     "iopub.status.busy": "2022-06-28T19:27:41.191043Z",
     "iopub.status.idle": "2022-06-28T19:27:41.267819Z",
     "shell.execute_reply": "2022-06-28T19:27:41.266965Z"
    },
    "papermill": {
     "duration": 0.08708,
     "end_time": "2022-06-28T19:27:41.270446",
     "exception": false,
     "start_time": "2022-06-28T19:27:41.183366",
     "status": "completed"
    },
    "tags": []
   },
   "outputs": [
    {
     "data": {
      "application/javascript": [
       "parent.postMessage({\"jupyterEvent\": \"custom.exercise_interaction\", \"data\": {\"outcomeType\": 1, \"valueTowardsCompletion\": 0.25, \"interactionType\": 1, \"questionType\": 2, \"questionId\": \"4_ReviewsPerRegion\", \"learnToolsVersion\": \"0.3.4\", \"failureMessage\": \"\", \"exceptionClass\": \"\", \"trace\": \"\"}}, \"*\")"
      ],
      "text/plain": [
       "<IPython.core.display.Javascript object>"
      ]
     },
     "metadata": {},
     "output_type": "display_data"
    },
    {
     "data": {
      "text/markdown": [
       "<span style=\"color:#33cc33\">Correct</span>"
      ],
      "text/plain": [
       "Correct"
      ]
     },
     "metadata": {},
     "output_type": "display_data"
    }
   ],
   "source": [
    "reviews_per_region = reviews.region_1.fillna('unknown').value_counts().sort_values(ascending=False)\n",
    "# Check your answer\n",
    "q4.check()"
   ]
  },
  {
   "cell_type": "code",
   "execution_count": 9,
   "id": "a27d621d",
   "metadata": {
    "execution": {
     "iopub.execute_input": "2022-06-28T19:27:41.286216Z",
     "iopub.status.busy": "2022-06-28T19:27:41.284959Z",
     "iopub.status.idle": "2022-06-28T19:27:41.295695Z",
     "shell.execute_reply": "2022-06-28T19:27:41.294804Z"
    },
    "papermill": {
     "duration": 0.020803,
     "end_time": "2022-06-28T19:27:41.297862",
     "exception": false,
     "start_time": "2022-06-28T19:27:41.277059",
     "status": "completed"
    },
    "tags": []
   },
   "outputs": [
    {
     "data": {
      "application/javascript": [
       "parent.postMessage({\"jupyterEvent\": \"custom.exercise_interaction\", \"data\": {\"interactionType\": 2, \"questionType\": 2, \"questionId\": \"4_ReviewsPerRegion\", \"learnToolsVersion\": \"0.3.4\", \"valueTowardsCompletion\": 0.0, \"failureMessage\": \"\", \"exceptionClass\": \"\", \"trace\": \"\", \"outcomeType\": 4}}, \"*\")"
      ],
      "text/plain": [
       "<IPython.core.display.Javascript object>"
      ]
     },
     "metadata": {},
     "output_type": "display_data"
    },
    {
     "data": {
      "text/markdown": [
       "<span style=\"color:#3366cc\">Hint:</span> Use `fillna()`, `value_counts()`, and `sort_values()`."
      ],
      "text/plain": [
       "Hint: Use `fillna()`, `value_counts()`, and `sort_values()`."
      ]
     },
     "metadata": {},
     "output_type": "display_data"
    }
   ],
   "source": [
    "q4.hint()\n",
    "#q4.solution()"
   ]
  },
  {
   "cell_type": "markdown",
   "id": "fa38e97a",
   "metadata": {
    "papermill": {
     "duration": 0.006141,
     "end_time": "2022-06-28T19:27:41.310535",
     "exception": false,
     "start_time": "2022-06-28T19:27:41.304394",
     "status": "completed"
    },
    "tags": []
   },
   "source": [
    "# Keep going\n",
    "\n",
    "Move on to **[renaming and combining](https://www.kaggle.com/residentmario/renaming-and-combining)**."
   ]
  },
  {
   "cell_type": "markdown",
   "id": "6ade15fc",
   "metadata": {
    "papermill": {
     "duration": 0.006154,
     "end_time": "2022-06-28T19:27:41.323055",
     "exception": false,
     "start_time": "2022-06-28T19:27:41.316901",
     "status": "completed"
    },
    "tags": []
   },
   "source": [
    "---\n",
    "\n",
    "\n",
    "\n",
    "\n",
    "*Have questions or comments? Visit the [course discussion forum](https://www.kaggle.com/learn/pandas/discussion) to chat with other learners.*"
   ]
  }
 ],
 "metadata": {
  "kernelspec": {
   "display_name": "Python 3",
   "language": "python",
   "name": "python3"
  },
  "language_info": {
   "codemirror_mode": {
    "name": "ipython",
    "version": 3
   },
   "file_extension": ".py",
   "mimetype": "text/x-python",
   "name": "python",
   "nbconvert_exporter": "python",
   "pygments_lexer": "ipython3",
   "version": "3.7.12"
  },
  "papermill": {
   "default_parameters": {},
   "duration": 14.403329,
   "end_time": "2022-06-28T19:27:42.051795",
   "environment_variables": {},
   "exception": null,
   "input_path": "__notebook__.ipynb",
   "output_path": "__notebook__.ipynb",
   "parameters": {},
   "start_time": "2022-06-28T19:27:27.648466",
   "version": "2.3.4"
  }
 },
 "nbformat": 4,
 "nbformat_minor": 5
}
